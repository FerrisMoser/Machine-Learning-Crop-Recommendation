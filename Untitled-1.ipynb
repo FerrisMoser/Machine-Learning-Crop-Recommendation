{
 "cells": [
  {
   "cell_type": "code",
   "execution_count": null,
   "metadata": {},
   "outputs": [],
   "source": []
  },
  {
   "cell_type": "code",
   "execution_count": 21,
   "metadata": {},
   "outputs": [
    {
     "ename": "AttributeError",
     "evalue": "'DecisionTree' object has no attribute 'grow_tree'",
     "output_type": "error",
     "traceback": [
      "\u001b[1;31m---------------------------------------------------------------------------\u001b[0m",
      "\u001b[1;31mAttributeError\u001b[0m                            Traceback (most recent call last)",
      "Cell \u001b[1;32mIn[21], line 21\u001b[0m\n\u001b[0;32m     17\u001b[0m X_train, X_test, y_train, y_test \u001b[38;5;241m=\u001b[39m train_test_split(X, y, test_size\u001b[38;5;241m=\u001b[39m\u001b[38;5;241m0.2\u001b[39m, random_state\u001b[38;5;241m=\u001b[39m\u001b[38;5;241m1234\u001b[39m)\n\u001b[0;32m     19\u001b[0m dt_model \u001b[38;5;241m=\u001b[39m DecisionTree(min_samples_split\u001b[38;5;241m=\u001b[39m\u001b[38;5;241m10\u001b[39m, max_depth\u001b[38;5;241m=\u001b[39m\u001b[38;5;241m100\u001b[39m, n_features\u001b[38;5;241m=\u001b[39m\u001b[38;5;241m5\u001b[39m)\n\u001b[1;32m---> 21\u001b[0m \u001b[43mdt_model\u001b[49m\u001b[38;5;241;43m.\u001b[39;49m\u001b[43mtrain\u001b[49m\u001b[43m(\u001b[49m\u001b[43mX_train\u001b[49m\u001b[43m,\u001b[49m\u001b[43m \u001b[49m\u001b[43my_train\u001b[49m\u001b[43m)\u001b[49m\n\u001b[0;32m     23\u001b[0m predictions \u001b[38;5;241m=\u001b[39m dt_model\u001b[38;5;241m.\u001b[39mtest(X_test)\n\u001b[0;32m     25\u001b[0m \u001b[38;5;28;01mdef\u001b[39;00m \u001b[38;5;21maccuracy\u001b[39m(y_test, y_pred):\n",
      "File \u001b[1;32mc:\\Users\\jespe\\OneDrive\\Documenten\\VU AI Jaar 2\\Machine Learning\\DecisionTree.py:26\u001b[0m, in \u001b[0;36mtrain\u001b[1;34m(self, array, y)\u001b[0m\n\u001b[0;32m     24\u001b[0m     # Checks the amount of columns in the array, and sets n_features to the amount of features present\n\u001b[0;32m     25\u001b[0m     self.n_features = array.shape[1] if not self.n_features else min(array.shape[1], self.n_features) \n\u001b[1;32m---> 26\u001b[0m     self.root = self.grow_tree(array, y)\n\u001b[0;32m     27\u001b[0m \n\u001b[0;32m     28\u001b[0m def _grow_tree(self, array, y, depth=0):\n",
      "\u001b[1;31mAttributeError\u001b[0m: 'DecisionTree' object has no attribute 'grow_tree'"
     ]
    }
   ],
   "source": [
    "from DecisionTree import DecisionTree\n",
    "from sklearn.model_selection import train_test_split\n",
    "import pandas as pd\n",
    "import numpy as np\n",
    "\n",
    "# Load CSV using pandas\n",
    "df = pd.read_csv(\"Crop_recommendation.csv\")\n",
    "\n",
    "# Shuffle the dataset\n",
    "df = df.sample(frac=1, random_state=1234).reset_index(drop=True)\n",
    "\n",
    "# Extract features and target\n",
    "X = df.iloc[:, :-1].values  # All rows, all but last column\n",
    "y = df.iloc[:, -1].values   # All rows, only last column\n",
    "\n",
    "# Split the dataset\n",
    "X_train, X_test, y_train, y_test = train_test_split(X, y, test_size=0.2, random_state=1234)\n",
    "\n",
    "dt_model = DecisionTree(min_samples_split=10, max_depth=100, n_features=5)\n",
    "\n",
    "dt_model.train(X_train, y_train)\n",
    "\n",
    "predictions = dt_model.test(X_test)\n",
    "\n",
    "def accuracy(y_test, y_pred):\n",
    "    return np.sum(y_test == y_pred) / len(y_test)\n",
    "\n",
    "acc = accuracy(y_test, predictions)\n",
    "\n",
    "print(acc)\n",
    "\n"
   ]
  },
  {
   "cell_type": "code",
   "execution_count": null,
   "metadata": {},
   "outputs": [],
   "source": []
  }
 ],
 "metadata": {
  "kernelspec": {
   "display_name": "VU",
   "language": "python",
   "name": "python3"
  },
  "language_info": {
   "codemirror_mode": {
    "name": "ipython",
    "version": 3
   },
   "file_extension": ".py",
   "mimetype": "text/x-python",
   "name": "python",
   "nbconvert_exporter": "python",
   "pygments_lexer": "ipython3",
   "version": "3.10.13"
  }
 },
 "nbformat": 4,
 "nbformat_minor": 2
}
